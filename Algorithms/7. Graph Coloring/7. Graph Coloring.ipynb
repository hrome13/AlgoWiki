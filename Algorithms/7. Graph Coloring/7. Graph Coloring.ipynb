{
 "cells": [
  {
   "cell_type": "markdown",
   "metadata": {},
   "source": [
    "# 7. Graph Coloring"
   ]
  },
  {
   "cell_type": "markdown",
   "metadata": {},
   "source": [
    "Graph coloring is a special case of graph labeling; it is an assignment of labels traditionally called \"colors\" to elements of a graph subject to certain constraints. In this case, the number of colors we have is given as an input."
   ]
  },
  {
   "cell_type": "markdown",
   "metadata": {},
   "source": [
    "The following is ChatGPT's implementation of Petford and Welsh's 3-coloring Monte Carlo algorithm:"
   ]
  },
  {
   "cell_type": "code",
   "execution_count": null,
   "metadata": {},
   "outputs": [],
   "source": [
    "from collections import defaultdict\n",
    "import random\n",
    "import numpy as np\n",
    "\n",
    "def is_3_colorable(G, p, t):\n",
    "  # color the vertices arbitrarily with 3 colors\n",
    "  colors = ['red', 'green', 'blue']\n",
    "  coloring = {}\n",
    "  for v in G.vertices:\n",
    "    coloring[v] = random.choice(colors)\n",
    "  \n",
    "  # allow the antivoter mechanism to operate for t(n) time steps\n",
    "  for i in range(t(len(G.vertices))):\n",
    "    # choose a random vertex to update its color\n",
    "    v = random.choice(list(coloring.keys()))\n",
    "    # find the current color of the vertex\n",
    "    current_color = coloring[v]\n",
    "    # find the neighboring vertices and their colors\n",
    "    neighbors = G.neighbors(v)\n",
    "    neighbor_colors = [coloring[n] for n in neighbors]\n",
    "    # compute the transition probability for each color\n",
    "    probabilities = []\n",
    "    for color in colors:\n",
    "      if color == current_color:\n",
    "        probabilities.append(1 - p)\n",
    "      elif color in neighbor_colors:\n",
    "        probabilities.append(p / (len(neighbor_colors) - 1))\n",
    "      else:\n",
    "        probabilities.append(p)\n",
    "    # choose a new color for the vertex based on the transition probability\n",
    "    coloring[v] = np.random.choice(colors, p=probabilities)\n",
    "  \n",
    "  # check if a proper 3-coloring has been achieved\n",
    "  for v in G.vertices:\n",
    "    neighbors = G.neighbors(v)\n",
    "    for n in neighbors:\n",
    "      if coloring[v] == coloring[n]:\n",
    "        return False\n",
    "  return True"
   ]
  }
 ],
 "metadata": {
  "kernelspec": {
   "display_name": "Python 3.10.6 64-bit ('3.10.6')",
   "language": "python",
   "name": "python3"
  },
  "language_info": {
   "name": "python",
   "version": "3.10.6"
  },
  "orig_nbformat": 4,
  "vscode": {
   "interpreter": {
    "hash": "5ce70c9cee4f5a071194c261eb3357617e7927c3374124300ad2551cdb5a6efd"
   }
  }
 },
 "nbformat": 4,
 "nbformat_minor": 2
}
